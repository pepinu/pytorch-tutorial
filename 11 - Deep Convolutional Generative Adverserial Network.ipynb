{
 "cells": [
  {
   "cell_type": "markdown",
   "metadata": {},
   "source": [
    "## Deep Convolutional Generative Adverserial Network"
   ]
  },
  {
   "cell_type": "code",
   "execution_count": 1,
   "metadata": {
    "collapsed": true
   },
   "outputs": [],
   "source": [
    "import torch\n",
    "import torchvision\n",
    "import torch.nn as nn\n",
    "import torchvision.datasets as dsets\n",
    "import torchvision.transforms as transforms\n",
    "from torch.autograd import Variable"
   ]
  },
  {
   "cell_type": "markdown",
   "metadata": {},
   "source": [
    "### Image Preprocessing "
   ]
  },
  {
   "cell_type": "code",
   "execution_count": 2,
   "metadata": {
    "collapsed": true
   },
   "outputs": [],
   "source": [
    "transform = transforms.Compose([\n",
    "        transforms.Scale(36),\n",
    "        transforms.RandomCrop(32),\n",
    "        transforms.ToTensor(),\n",
    "        transforms.Normalize(mean=(0.5,0.5,0.5), std=(0.5, 0.5, 0.5))])"
   ]
  },
  {
   "cell_type": "markdown",
   "metadata": {},
   "source": [
    "### CIFAR-10 Dataset"
   ]
  },
  {
   "cell_type": "code",
   "execution_count": 4,
   "metadata": {
    "collapsed": false
   },
   "outputs": [
    {
     "name": "stdout",
     "output_type": "stream",
     "text": [
      "Files already downloaded and verified\n"
     ]
    }
   ],
   "source": [
    "train_dataset = dsets.CIFAR10(root='../data/',\n",
    "                              train=True,\n",
    "                              transform=transform,\n",
    "                              download=True)"
   ]
  },
  {
   "cell_type": "markdown",
   "metadata": {},
   "source": [
    "### Data Loader (Input Pipeline)"
   ]
  },
  {
   "cell_type": "code",
   "execution_count": 5,
   "metadata": {
    "collapsed": true
   },
   "outputs": [],
   "source": [
    "train_loader = torch.utils.data.DataLoader(dataset=train_dataset,\n",
    "                                           batch_size=100,\n",
    "                                           shuffle=True)"
   ]
  },
  {
   "cell_type": "markdown",
   "metadata": {},
   "source": [
    "### 4x4 Convolution"
   ]
  },
  {
   "cell_type": "code",
   "execution_count": 6,
   "metadata": {
    "collapsed": true
   },
   "outputs": [],
   "source": [
    "def conv4x4(in_channels, out_channels, stride):\n",
    "    return nn.Conv2d(in_channels, out_channels, kernel_size=4,\n",
    "                     stride=stride, padding=1, bias=False)"
   ]
  },
  {
   "cell_type": "markdown",
   "metadata": {},
   "source": [
    "### Discriminator Model"
   ]
  },
  {
   "cell_type": "code",
   "execution_count": 8,
   "metadata": {
    "collapsed": false
   },
   "outputs": [],
   "source": [
    "class Discriminator(nn.Module):\n",
    "    def __init__(self):\n",
    "        super(Discriminator, self).__init__()\n",
    "        self.model = nn.Sequential(\n",
    "            conv4x4(3, 16, 2),\n",
    "            nn.LeakyReLU(0.2, inplace=True),\n",
    "            conv4x4(16, 32, 2),\n",
    "            nn.BatchNorm2d(32),\n",
    "            nn.LeakyReLU(0.2, inplace=True),\n",
    "            conv4x4(32, 64, 2),\n",
    "            nn.BatchNorm2d(64),\n",
    "            nn.LeakyReLU(0.2, inplace=True),\n",
    "            nn.Conv2d(64, 1, kernel_size=4),\n",
    "            nn.Sigmoid())\n",
    "        \n",
    "    def forward(self, x):\n",
    "        out = self.model(x)\n",
    "        out = out.view(out.size(0), -1)\n",
    "        return out"
   ]
  },
  {
   "cell_type": "markdown",
   "metadata": {},
   "source": [
    "### 4x4 Transpose Convolution"
   ]
  },
  {
   "cell_type": "code",
   "execution_count": 9,
   "metadata": {
    "collapsed": true
   },
   "outputs": [],
   "source": [
    "def conv_transpose4x4(in_channels, out_channels, stride=1, padding=1, bias=False):\n",
    "    return nn.ConvTranspose2d(in_channels, out_channels, kernel_size=4,\n",
    "                              stride=stride, padding=padding, bias=bias)"
   ]
  },
  {
   "cell_type": "markdown",
   "metadata": {},
   "source": [
    "### Generator Model"
   ]
  },
  {
   "cell_type": "code",
   "execution_count": 10,
   "metadata": {
    "collapsed": true
   },
   "outputs": [],
   "source": [
    "class Generator(nn.Module):\n",
    "    def __init__(self):\n",
    "        super(Generator, self).__init__()\n",
    "        self.model = nn.Sequential(\n",
    "            conv_transpose4x4(128, 64, padding=0),\n",
    "            nn.BatchNorm2d(64),\n",
    "            nn.ReLU(inplace=True),\n",
    "            conv_transpose4x4(64, 32, 2),\n",
    "            nn.BatchNorm2d(32),\n",
    "            nn.ReLU(inplace=True),\n",
    "            conv_transpose4x4(32, 16, 2),\n",
    "            nn.BatchNorm2d(16),\n",
    "            nn.ReLU(inplace=True),\n",
    "            conv_transpose4x4(16, 3, 2, bias=True),\n",
    "            nn.Tanh())\n",
    "        \n",
    "    def forward(self, x):\n",
    "        x = x.view(x.size(0), 128, 1, 1)\n",
    "        out = self.model(x)\n",
    "        return out"
   ]
  },
  {
   "cell_type": "code",
   "execution_count": 11,
   "metadata": {
    "collapsed": true
   },
   "outputs": [],
   "source": [
    "discriminator = Discriminator()\n",
    "generator = Generator()"
   ]
  },
  {
   "cell_type": "markdown",
   "metadata": {},
   "source": [
    "### Loss and Optimizer "
   ]
  },
  {
   "cell_type": "code",
   "execution_count": 12,
   "metadata": {
    "collapsed": true
   },
   "outputs": [],
   "source": [
    "criterion = nn.BCELoss()\n",
    "lr = 0.0002\n",
    "d_optimizer = torch.optim.Adam(discriminator.parameters(), lr=lr)\n",
    "g_optimizer = torch.optim.Adam(generator.parameters(), lr=lr)"
   ]
  },
  {
   "cell_type": "markdown",
   "metadata": {},
   "source": [
    "### Training "
   ]
  },
  {
   "cell_type": "code",
   "execution_count": 17,
   "metadata": {
    "collapsed": false
   },
   "outputs": [
    {
     "name": "stdout",
     "output_type": "stream",
     "text": [
      "Epoch [0/50], Step[100/500], d_loss: 0.4927, g_loss: 2.5381, D(x): 0.81, D(G(Z)): 0.21\n",
      "Epoch [0/50], Step[200/500], d_loss: 0.2641, g_loss: 2.5815, D(x): 0.91, D(G(Z)): 0.15\n",
      "Epoch [0/50], Step[300/500], d_loss: 0.2285, g_loss: 2.8974, D(x): 0.89, D(G(Z)): 0.09\n",
      "Epoch [0/50], Step[400/500], d_loss: 0.2652, g_loss: 2.7445, D(x): 0.88, D(G(Z)): 0.11\n",
      "Epoch [0/50], Step[500/500], d_loss: 0.2633, g_loss: 2.6892, D(x): 0.91, D(G(Z)): 0.13\n",
      "Epoch [1/50], Step[100/500], d_loss: 0.2262, g_loss: 3.7405, D(x): 0.90, D(G(Z)): 0.10\n",
      "Epoch [1/50], Step[200/500], d_loss: 0.2972, g_loss: 4.0202, D(x): 0.85, D(G(Z)): 0.08\n",
      "Epoch [1/50], Step[300/500], d_loss: 0.1545, g_loss: 4.0581, D(x): 0.93, D(G(Z)): 0.05\n",
      "Epoch [1/50], Step[400/500], d_loss: 0.3759, g_loss: 3.3602, D(x): 0.82, D(G(Z)): 0.10\n",
      "Epoch [1/50], Step[500/500], d_loss: 0.1195, g_loss: 4.4986, D(x): 0.95, D(G(Z)): 0.04\n",
      "Epoch [2/50], Step[100/500], d_loss: 0.0842, g_loss: 4.9589, D(x): 0.97, D(G(Z)): 0.05\n",
      "Epoch [2/50], Step[200/500], d_loss: 0.1652, g_loss: 3.9232, D(x): 0.93, D(G(Z)): 0.07\n",
      "Epoch [2/50], Step[300/500], d_loss: 0.2167, g_loss: 3.4891, D(x): 0.92, D(G(Z)): 0.09\n",
      "Epoch [2/50], Step[400/500], d_loss: 0.2032, g_loss: 4.4512, D(x): 0.90, D(G(Z)): 0.06\n",
      "Epoch [2/50], Step[500/500], d_loss: 0.2434, g_loss: 3.3425, D(x): 0.89, D(G(Z)): 0.09\n",
      "Epoch [3/50], Step[100/500], d_loss: 0.1715, g_loss: 3.7786, D(x): 0.92, D(G(Z)): 0.07\n",
      "Epoch [3/50], Step[200/500], d_loss: 0.1738, g_loss: 4.0397, D(x): 0.95, D(G(Z)): 0.08\n",
      "Epoch [3/50], Step[300/500], d_loss: 0.1072, g_loss: 4.9006, D(x): 0.95, D(G(Z)): 0.04\n",
      "Epoch [3/50], Step[400/500], d_loss: 0.3578, g_loss: 3.3673, D(x): 0.87, D(G(Z)): 0.12\n",
      "Epoch [3/50], Step[500/500], d_loss: 0.1874, g_loss: 4.8299, D(x): 0.94, D(G(Z)): 0.09\n",
      "Epoch [4/50], Step[100/500], d_loss: 0.1142, g_loss: 4.3392, D(x): 0.96, D(G(Z)): 0.06\n",
      "Epoch [4/50], Step[200/500], d_loss: 0.1549, g_loss: 4.3927, D(x): 0.91, D(G(Z)): 0.03\n",
      "Epoch [4/50], Step[300/500], d_loss: 0.1803, g_loss: 4.4008, D(x): 0.90, D(G(Z)): 0.05\n",
      "Epoch [4/50], Step[400/500], d_loss: 0.1692, g_loss: 3.5859, D(x): 0.93, D(G(Z)): 0.07\n",
      "Epoch [4/50], Step[500/500], d_loss: 0.1440, g_loss: 3.4677, D(x): 0.94, D(G(Z)): 0.07\n",
      "Epoch [5/50], Step[100/500], d_loss: 0.2579, g_loss: 3.1155, D(x): 0.93, D(G(Z)): 0.13\n",
      "Epoch [5/50], Step[200/500], d_loss: 0.1784, g_loss: 3.9182, D(x): 0.96, D(G(Z)): 0.11\n",
      "Epoch [5/50], Step[300/500], d_loss: 0.0738, g_loss: 5.2502, D(x): 0.96, D(G(Z)): 0.02\n",
      "Epoch [5/50], Step[400/500], d_loss: 0.6446, g_loss: 2.7430, D(x): 0.83, D(G(Z)): 0.27\n",
      "Epoch [5/50], Step[500/500], d_loss: 0.3380, g_loss: 4.9547, D(x): 0.80, D(G(Z)): 0.04\n",
      "Epoch [6/50], Step[100/500], d_loss: 0.2657, g_loss: 3.5799, D(x): 0.94, D(G(Z)): 0.13\n",
      "Epoch [6/50], Step[200/500], d_loss: 0.1151, g_loss: 4.0208, D(x): 0.97, D(G(Z)): 0.08\n",
      "Epoch [6/50], Step[300/500], d_loss: 0.6562, g_loss: 2.8695, D(x): 0.77, D(G(Z)): 0.21\n",
      "Epoch [6/50], Step[400/500], d_loss: 0.3974, g_loss: 3.2851, D(x): 0.84, D(G(Z)): 0.12\n",
      "Epoch [6/50], Step[500/500], d_loss: 0.2598, g_loss: 3.6622, D(x): 0.87, D(G(Z)): 0.08\n",
      "Epoch [7/50], Step[100/500], d_loss: 0.3057, g_loss: 3.2239, D(x): 0.92, D(G(Z)): 0.15\n",
      "Epoch [7/50], Step[200/500], d_loss: 0.2896, g_loss: 3.3535, D(x): 0.89, D(G(Z)): 0.12\n",
      "Epoch [7/50], Step[300/500], d_loss: 0.3432, g_loss: 3.0507, D(x): 0.82, D(G(Z)): 0.07\n",
      "Epoch [7/50], Step[400/500], d_loss: 0.2657, g_loss: 3.1566, D(x): 0.91, D(G(Z)): 0.12\n",
      "Epoch [7/50], Step[500/500], d_loss: 0.2416, g_loss: 3.7595, D(x): 0.89, D(G(Z)): 0.08\n",
      "Epoch [8/50], Step[100/500], d_loss: 0.3560, g_loss: 3.1066, D(x): 0.92, D(G(Z)): 0.19\n",
      "Epoch [8/50], Step[200/500], d_loss: 0.3047, g_loss: 3.4865, D(x): 0.88, D(G(Z)): 0.11\n",
      "Epoch [8/50], Step[300/500], d_loss: 0.5752, g_loss: 2.6633, D(x): 0.78, D(G(Z)): 0.17\n",
      "Epoch [8/50], Step[400/500], d_loss: 0.2224, g_loss: 3.6099, D(x): 0.93, D(G(Z)): 0.12\n",
      "Epoch [8/50], Step[500/500], d_loss: 0.3956, g_loss: 2.4612, D(x): 0.86, D(G(Z)): 0.16\n",
      "Epoch [9/50], Step[100/500], d_loss: 0.4446, g_loss: 3.0775, D(x): 0.80, D(G(Z)): 0.13\n",
      "Epoch [9/50], Step[200/500], d_loss: 0.4251, g_loss: 3.4049, D(x): 0.83, D(G(Z)): 0.13\n",
      "Epoch [9/50], Step[300/500], d_loss: 0.3791, g_loss: 2.9866, D(x): 0.85, D(G(Z)): 0.14\n",
      "Epoch [9/50], Step[400/500], d_loss: 0.3003, g_loss: 2.8581, D(x): 0.93, D(G(Z)): 0.17\n",
      "Epoch [9/50], Step[500/500], d_loss: 0.2579, g_loss: 3.0730, D(x): 0.93, D(G(Z)): 0.14\n",
      "Epoch [10/50], Step[100/500], d_loss: 0.5107, g_loss: 3.1358, D(x): 0.85, D(G(Z)): 0.21\n",
      "Epoch [10/50], Step[200/500], d_loss: 0.6540, g_loss: 3.4199, D(x): 0.71, D(G(Z)): 0.10\n",
      "Epoch [10/50], Step[300/500], d_loss: 0.2416, g_loss: 4.1970, D(x): 0.88, D(G(Z)): 0.07\n",
      "Epoch [10/50], Step[400/500], d_loss: 0.7483, g_loss: 2.6136, D(x): 0.73, D(G(Z)): 0.25\n",
      "Epoch [10/50], Step[500/500], d_loss: 0.3658, g_loss: 3.5963, D(x): 0.82, D(G(Z)): 0.11\n",
      "Epoch [11/50], Step[100/500], d_loss: 0.2453, g_loss: 2.9692, D(x): 0.89, D(G(Z)): 0.10\n",
      "Epoch [11/50], Step[200/500], d_loss: 0.2377, g_loss: 3.2632, D(x): 0.92, D(G(Z)): 0.11\n",
      "Epoch [11/50], Step[300/500], d_loss: 0.2831, g_loss: 3.0658, D(x): 0.92, D(G(Z)): 0.13\n",
      "Epoch [11/50], Step[400/500], d_loss: 0.5248, g_loss: 2.6552, D(x): 0.83, D(G(Z)): 0.19\n",
      "Epoch [11/50], Step[500/500], d_loss: 0.2786, g_loss: 3.8033, D(x): 0.88, D(G(Z)): 0.09\n",
      "Epoch [12/50], Step[100/500], d_loss: 0.5231, g_loss: 2.9767, D(x): 0.81, D(G(Z)): 0.18\n",
      "Epoch [12/50], Step[200/500], d_loss: 0.6527, g_loss: 3.3397, D(x): 0.71, D(G(Z)): 0.12\n",
      "Epoch [12/50], Step[300/500], d_loss: 0.5556, g_loss: 2.8960, D(x): 0.77, D(G(Z)): 0.14\n",
      "Epoch [12/50], Step[400/500], d_loss: 0.3778, g_loss: 3.4800, D(x): 0.88, D(G(Z)): 0.15\n",
      "Epoch [12/50], Step[500/500], d_loss: 0.3931, g_loss: 3.3942, D(x): 0.85, D(G(Z)): 0.13\n",
      "Epoch [13/50], Step[100/500], d_loss: 0.5031, g_loss: 2.5304, D(x): 0.90, D(G(Z)): 0.23\n",
      "Epoch [13/50], Step[200/500], d_loss: 0.2308, g_loss: 2.8104, D(x): 0.93, D(G(Z)): 0.12\n",
      "Epoch [13/50], Step[300/500], d_loss: 0.5616, g_loss: 3.9004, D(x): 0.76, D(G(Z)): 0.12\n",
      "Epoch [13/50], Step[400/500], d_loss: 0.3247, g_loss: 2.6272, D(x): 0.97, D(G(Z)): 0.20\n",
      "Epoch [13/50], Step[500/500], d_loss: 0.4012, g_loss: 2.8849, D(x): 0.89, D(G(Z)): 0.19\n",
      "Epoch [14/50], Step[100/500], d_loss: 0.2988, g_loss: 3.4009, D(x): 0.90, D(G(Z)): 0.15\n",
      "Epoch [14/50], Step[200/500], d_loss: 0.3869, g_loss: 3.5397, D(x): 0.81, D(G(Z)): 0.09\n",
      "Epoch [14/50], Step[300/500], d_loss: 0.4971, g_loss: 2.5563, D(x): 0.82, D(G(Z)): 0.19\n",
      "Epoch [14/50], Step[400/500], d_loss: 0.8126, g_loss: 1.7829, D(x): 0.78, D(G(Z)): 0.31\n",
      "Epoch [14/50], Step[500/500], d_loss: 0.3557, g_loss: 2.9617, D(x): 0.86, D(G(Z)): 0.14\n",
      "Epoch [15/50], Step[100/500], d_loss: 0.5739, g_loss: 2.3921, D(x): 0.87, D(G(Z)): 0.27\n",
      "Epoch [15/50], Step[200/500], d_loss: 0.2445, g_loss: 3.5389, D(x): 0.92, D(G(Z)): 0.10\n",
      "Epoch [15/50], Step[300/500], d_loss: 0.3713, g_loss: 3.2282, D(x): 0.84, D(G(Z)): 0.13\n",
      "Epoch [15/50], Step[400/500], d_loss: 0.6272, g_loss: 2.5034, D(x): 0.82, D(G(Z)): 0.26\n",
      "Epoch [15/50], Step[500/500], d_loss: 0.3476, g_loss: 3.4326, D(x): 0.83, D(G(Z)): 0.09\n",
      "Epoch [16/50], Step[100/500], d_loss: 0.4005, g_loss: 2.9102, D(x): 0.86, D(G(Z)): 0.16\n",
      "Epoch [16/50], Step[200/500], d_loss: 0.2779, g_loss: 3.0105, D(x): 0.90, D(G(Z)): 0.13\n",
      "Epoch [16/50], Step[300/500], d_loss: 0.5037, g_loss: 3.1491, D(x): 0.80, D(G(Z)): 0.18\n",
      "Epoch [16/50], Step[400/500], d_loss: 0.4093, g_loss: 2.8173, D(x): 0.85, D(G(Z)): 0.16\n",
      "Epoch [16/50], Step[500/500], d_loss: 0.4957, g_loss: 4.1881, D(x): 0.74, D(G(Z)): 0.06\n",
      "Epoch [17/50], Step[100/500], d_loss: 0.6971, g_loss: 2.6422, D(x): 0.79, D(G(Z)): 0.24\n",
      "Epoch [17/50], Step[200/500], d_loss: 0.5801, g_loss: 3.0007, D(x): 0.72, D(G(Z)): 0.10\n",
      "Epoch [17/50], Step[300/500], d_loss: 0.8639, g_loss: 2.1509, D(x): 0.86, D(G(Z)): 0.38\n",
      "Epoch [17/50], Step[400/500], d_loss: 0.4549, g_loss: 2.5105, D(x): 0.87, D(G(Z)): 0.19\n",
      "Epoch [17/50], Step[500/500], d_loss: 1.0712, g_loss: 2.2568, D(x): 0.60, D(G(Z)): 0.22\n",
      "Epoch [18/50], Step[100/500], d_loss: 0.3926, g_loss: 2.6334, D(x): 0.87, D(G(Z)): 0.17\n",
      "Epoch [18/50], Step[200/500], d_loss: 0.5218, g_loss: 2.6735, D(x): 0.85, D(G(Z)): 0.18\n",
      "Epoch [18/50], Step[300/500], d_loss: 0.4966, g_loss: 3.6757, D(x): 0.82, D(G(Z)): 0.17\n",
      "Epoch [18/50], Step[400/500], d_loss: 0.3812, g_loss: 4.4231, D(x): 0.81, D(G(Z)): 0.10\n",
      "Epoch [18/50], Step[500/500], d_loss: 0.6645, g_loss: 2.8265, D(x): 0.76, D(G(Z)): 0.19\n",
      "Epoch [19/50], Step[100/500], d_loss: 0.4398, g_loss: 3.5880, D(x): 0.87, D(G(Z)): 0.17\n",
      "Epoch [19/50], Step[200/500], d_loss: 0.2689, g_loss: 3.1832, D(x): 0.89, D(G(Z)): 0.11\n",
      "Epoch [19/50], Step[300/500], d_loss: 0.6158, g_loss: 2.9772, D(x): 0.87, D(G(Z)): 0.28\n",
      "Epoch [19/50], Step[400/500], d_loss: 0.5524, g_loss: 1.8686, D(x): 0.78, D(G(Z)): 0.16\n",
      "Epoch [19/50], Step[500/500], d_loss: 0.5464, g_loss: 2.9953, D(x): 0.82, D(G(Z)): 0.19\n",
      "Epoch [20/50], Step[100/500], d_loss: 0.5384, g_loss: 2.9636, D(x): 0.75, D(G(Z)): 0.12\n",
      "Epoch [20/50], Step[200/500], d_loss: 0.6598, g_loss: 2.8279, D(x): 0.79, D(G(Z)): 0.20\n",
      "Epoch [20/50], Step[300/500], d_loss: 0.6862, g_loss: 2.5558, D(x): 0.80, D(G(Z)): 0.22\n",
      "Epoch [20/50], Step[400/500], d_loss: 0.4431, g_loss: 3.0733, D(x): 0.84, D(G(Z)): 0.16\n",
      "Epoch [20/50], Step[500/500], d_loss: 0.6031, g_loss: 2.2519, D(x): 0.81, D(G(Z)): 0.24\n",
      "Epoch [21/50], Step[100/500], d_loss: 0.2297, g_loss: 2.6234, D(x): 0.94, D(G(Z)): 0.14\n",
      "Epoch [21/50], Step[200/500], d_loss: 0.7356, g_loss: 2.0767, D(x): 0.79, D(G(Z)): 0.28\n",
      "Epoch [21/50], Step[300/500], d_loss: 0.7504, g_loss: 2.3737, D(x): 0.72, D(G(Z)): 0.22\n",
      "Epoch [21/50], Step[400/500], d_loss: 0.8413, g_loss: 2.2586, D(x): 0.68, D(G(Z)): 0.24\n",
      "Epoch [21/50], Step[500/500], d_loss: 0.6300, g_loss: 2.1674, D(x): 0.76, D(G(Z)): 0.20\n",
      "Epoch [22/50], Step[100/500], d_loss: 0.9201, g_loss: 1.9937, D(x): 0.72, D(G(Z)): 0.31\n",
      "Epoch [22/50], Step[200/500], d_loss: 0.5285, g_loss: 2.2524, D(x): 0.86, D(G(Z)): 0.24\n",
      "Epoch [22/50], Step[300/500], d_loss: 0.5110, g_loss: 2.0445, D(x): 0.89, D(G(Z)): 0.27\n",
      "Epoch [22/50], Step[400/500], d_loss: 0.4622, g_loss: 2.3366, D(x): 0.86, D(G(Z)): 0.21\n",
      "Epoch [22/50], Step[500/500], d_loss: 0.6090, g_loss: 1.6230, D(x): 0.84, D(G(Z)): 0.28\n",
      "Epoch [23/50], Step[100/500], d_loss: 0.6020, g_loss: 2.7457, D(x): 0.76, D(G(Z)): 0.19\n",
      "Epoch [23/50], Step[200/500], d_loss: 0.4285, g_loss: 3.1077, D(x): 0.82, D(G(Z)): 0.15\n",
      "Epoch [23/50], Step[300/500], d_loss: 0.5049, g_loss: 2.5738, D(x): 0.79, D(G(Z)): 0.15\n",
      "Epoch [23/50], Step[400/500], d_loss: 0.3495, g_loss: 2.2332, D(x): 0.86, D(G(Z)): 0.14\n",
      "Epoch [23/50], Step[500/500], d_loss: 0.4863, g_loss: 2.2171, D(x): 0.82, D(G(Z)): 0.19\n",
      "Epoch [24/50], Step[100/500], d_loss: 0.8852, g_loss: 1.8629, D(x): 0.79, D(G(Z)): 0.37\n",
      "Epoch [24/50], Step[200/500], d_loss: 0.6736, g_loss: 2.9099, D(x): 0.71, D(G(Z)): 0.14\n",
      "Epoch [24/50], Step[300/500], d_loss: 0.5430, g_loss: 3.4778, D(x): 0.72, D(G(Z)): 0.10\n",
      "Epoch [24/50], Step[400/500], d_loss: 0.3993, g_loss: 2.1570, D(x): 0.89, D(G(Z)): 0.18\n",
      "Epoch [24/50], Step[500/500], d_loss: 0.5235, g_loss: 3.1263, D(x): 0.92, D(G(Z)): 0.29\n",
      "Epoch [25/50], Step[100/500], d_loss: 0.6706, g_loss: 2.6394, D(x): 0.86, D(G(Z)): 0.31\n",
      "Epoch [25/50], Step[200/500], d_loss: 0.6262, g_loss: 2.2433, D(x): 0.75, D(G(Z)): 0.16\n",
      "Epoch [25/50], Step[300/500], d_loss: 0.8642, g_loss: 1.9160, D(x): 0.94, D(G(Z)): 0.46\n",
      "Epoch [25/50], Step[400/500], d_loss: 0.6194, g_loss: 2.0941, D(x): 0.71, D(G(Z)): 0.12\n",
      "Epoch [25/50], Step[500/500], d_loss: 0.6167, g_loss: 2.3509, D(x): 0.77, D(G(Z)): 0.21\n",
      "Epoch [26/50], Step[100/500], d_loss: 0.7256, g_loss: 1.9074, D(x): 0.75, D(G(Z)): 0.23\n",
      "Epoch [26/50], Step[200/500], d_loss: 0.3953, g_loss: 3.2341, D(x): 0.84, D(G(Z)): 0.13\n",
      "Epoch [26/50], Step[300/500], d_loss: 0.3949, g_loss: 2.7805, D(x): 0.87, D(G(Z)): 0.17\n",
      "Epoch [26/50], Step[400/500], d_loss: 1.0529, g_loss: 2.5007, D(x): 0.63, D(G(Z)): 0.23\n",
      "Epoch [26/50], Step[500/500], d_loss: 0.3750, g_loss: 3.1032, D(x): 0.82, D(G(Z)): 0.09\n",
      "Epoch [27/50], Step[100/500], d_loss: 0.5225, g_loss: 2.4649, D(x): 0.77, D(G(Z)): 0.14\n",
      "Epoch [27/50], Step[200/500], d_loss: 0.7115, g_loss: 2.4243, D(x): 0.80, D(G(Z)): 0.29\n",
      "Epoch [27/50], Step[300/500], d_loss: 0.6357, g_loss: 2.0989, D(x): 0.75, D(G(Z)): 0.18\n",
      "Epoch [27/50], Step[400/500], d_loss: 0.6805, g_loss: 2.2364, D(x): 0.86, D(G(Z)): 0.32\n",
      "Epoch [27/50], Step[500/500], d_loss: 0.8951, g_loss: 1.7079, D(x): 0.64, D(G(Z)): 0.23\n",
      "Epoch [28/50], Step[100/500], d_loss: 0.6370, g_loss: 2.1505, D(x): 0.76, D(G(Z)): 0.20\n",
      "Epoch [28/50], Step[200/500], d_loss: 0.7330, g_loss: 2.2475, D(x): 0.70, D(G(Z)): 0.19\n",
      "Epoch [28/50], Step[300/500], d_loss: 0.5758, g_loss: 2.9583, D(x): 0.78, D(G(Z)): 0.21\n",
      "Epoch [28/50], Step[400/500], d_loss: 0.3554, g_loss: 2.8794, D(x): 0.85, D(G(Z)): 0.13\n",
      "Epoch [28/50], Step[500/500], d_loss: 0.4985, g_loss: 2.2867, D(x): 0.80, D(G(Z)): 0.15\n",
      "Epoch [29/50], Step[100/500], d_loss: 0.2865, g_loss: 2.4246, D(x): 0.91, D(G(Z)): 0.15\n",
      "Epoch [29/50], Step[200/500], d_loss: 1.2675, g_loss: 1.4212, D(x): 0.63, D(G(Z)): 0.40\n",
      "Epoch [29/50], Step[300/500], d_loss: 0.4231, g_loss: 3.5004, D(x): 0.83, D(G(Z)): 0.14\n",
      "Epoch [29/50], Step[400/500], d_loss: 0.3204, g_loss: 2.7978, D(x): 0.84, D(G(Z)): 0.08\n",
      "Epoch [29/50], Step[500/500], d_loss: 0.4237, g_loss: 2.5242, D(x): 0.86, D(G(Z)): 0.20\n",
      "Epoch [30/50], Step[100/500], d_loss: 0.7952, g_loss: 2.5040, D(x): 0.60, D(G(Z)): 0.12\n",
      "Epoch [30/50], Step[200/500], d_loss: 0.7032, g_loss: 2.4645, D(x): 0.63, D(G(Z)): 0.09\n",
      "Epoch [30/50], Step[300/500], d_loss: 0.9275, g_loss: 2.4114, D(x): 0.64, D(G(Z)): 0.29\n",
      "Epoch [30/50], Step[400/500], d_loss: 0.9201, g_loss: 2.3837, D(x): 0.68, D(G(Z)): 0.29\n",
      "Epoch [30/50], Step[500/500], d_loss: 0.9412, g_loss: 1.5543, D(x): 0.72, D(G(Z)): 0.36\n",
      "Epoch [31/50], Step[100/500], d_loss: 0.7858, g_loss: 1.4212, D(x): 0.79, D(G(Z)): 0.30\n",
      "Epoch [31/50], Step[200/500], d_loss: 0.7399, g_loss: 2.3985, D(x): 0.68, D(G(Z)): 0.20\n",
      "Epoch [31/50], Step[300/500], d_loss: 0.5015, g_loss: 2.0447, D(x): 0.80, D(G(Z)): 0.19\n",
      "Epoch [31/50], Step[400/500], d_loss: 0.8373, g_loss: 2.1884, D(x): 0.74, D(G(Z)): 0.30\n",
      "Epoch [31/50], Step[500/500], d_loss: 0.6484, g_loss: 1.9829, D(x): 0.80, D(G(Z)): 0.26\n",
      "Epoch [32/50], Step[100/500], d_loss: 0.9935, g_loss: 1.2823, D(x): 0.73, D(G(Z)): 0.39\n",
      "Epoch [32/50], Step[200/500], d_loss: 0.9611, g_loss: 1.9595, D(x): 0.62, D(G(Z)): 0.24\n",
      "Epoch [32/50], Step[300/500], d_loss: 1.6392, g_loss: 1.6648, D(x): 0.48, D(G(Z)): 0.37\n",
      "Epoch [32/50], Step[400/500], d_loss: 0.7769, g_loss: 1.8939, D(x): 0.75, D(G(Z)): 0.25\n",
      "Epoch [32/50], Step[500/500], d_loss: 0.7878, g_loss: 2.5533, D(x): 0.72, D(G(Z)): 0.24\n",
      "Epoch [33/50], Step[100/500], d_loss: 0.6401, g_loss: 1.7864, D(x): 0.77, D(G(Z)): 0.24\n",
      "Epoch [33/50], Step[200/500], d_loss: 1.1839, g_loss: 1.2174, D(x): 0.65, D(G(Z)): 0.37\n",
      "Epoch [33/50], Step[300/500], d_loss: 0.7487, g_loss: 2.8157, D(x): 0.74, D(G(Z)): 0.27\n",
      "Epoch [33/50], Step[400/500], d_loss: 1.2871, g_loss: 1.4436, D(x): 0.72, D(G(Z)): 0.48\n",
      "Epoch [33/50], Step[500/500], d_loss: 1.0683, g_loss: 1.7290, D(x): 0.72, D(G(Z)): 0.40\n",
      "Epoch [34/50], Step[100/500], d_loss: 0.6842, g_loss: 2.2621, D(x): 0.74, D(G(Z)): 0.21\n",
      "Epoch [34/50], Step[200/500], d_loss: 0.4916, g_loss: 2.6313, D(x): 0.79, D(G(Z)): 0.17\n",
      "Epoch [34/50], Step[300/500], d_loss: 0.6134, g_loss: 2.1780, D(x): 0.80, D(G(Z)): 0.24\n",
      "Epoch [34/50], Step[400/500], d_loss: 0.5753, g_loss: 2.5158, D(x): 0.77, D(G(Z)): 0.19\n",
      "Epoch [34/50], Step[500/500], d_loss: 0.9485, g_loss: 1.4949, D(x): 0.63, D(G(Z)): 0.24\n",
      "Epoch [35/50], Step[100/500], d_loss: 0.7191, g_loss: 1.8977, D(x): 0.76, D(G(Z)): 0.28\n",
      "Epoch [35/50], Step[200/500], d_loss: 1.3247, g_loss: 1.9593, D(x): 0.55, D(G(Z)): 0.34\n",
      "Epoch [35/50], Step[300/500], d_loss: 1.1960, g_loss: 1.5355, D(x): 0.53, D(G(Z)): 0.27\n",
      "Epoch [35/50], Step[400/500], d_loss: 0.7191, g_loss: 1.4331, D(x): 0.75, D(G(Z)): 0.26\n",
      "Epoch [35/50], Step[500/500], d_loss: 0.8479, g_loss: 1.2137, D(x): 0.75, D(G(Z)): 0.33\n",
      "Epoch [36/50], Step[100/500], d_loss: 0.8185, g_loss: 1.5078, D(x): 0.72, D(G(Z)): 0.30\n",
      "Epoch [36/50], Step[200/500], d_loss: 0.9944, g_loss: 1.6429, D(x): 0.78, D(G(Z)): 0.42\n",
      "Epoch [36/50], Step[300/500], d_loss: 0.9794, g_loss: 1.4436, D(x): 0.71, D(G(Z)): 0.35\n",
      "Epoch [36/50], Step[400/500], d_loss: 0.7158, g_loss: 2.7513, D(x): 0.67, D(G(Z)): 0.17\n",
      "Epoch [36/50], Step[500/500], d_loss: 0.5693, g_loss: 1.9591, D(x): 0.87, D(G(Z)): 0.28\n",
      "Epoch [37/50], Step[100/500], d_loss: 0.4777, g_loss: 2.5392, D(x): 0.82, D(G(Z)): 0.17\n",
      "Epoch [37/50], Step[200/500], d_loss: 0.6414, g_loss: 1.7854, D(x): 0.78, D(G(Z)): 0.27\n",
      "Epoch [37/50], Step[300/500], d_loss: 0.5787, g_loss: 2.3274, D(x): 0.78, D(G(Z)): 0.23\n",
      "Epoch [37/50], Step[400/500], d_loss: 0.5078, g_loss: 2.4401, D(x): 0.86, D(G(Z)): 0.23\n",
      "Epoch [37/50], Step[500/500], d_loss: 0.6028, g_loss: 1.7335, D(x): 0.78, D(G(Z)): 0.24\n",
      "Epoch [38/50], Step[100/500], d_loss: 1.0840, g_loss: 1.8051, D(x): 0.61, D(G(Z)): 0.29\n",
      "Epoch [38/50], Step[200/500], d_loss: 0.6268, g_loss: 1.8203, D(x): 0.73, D(G(Z)): 0.19\n",
      "Epoch [38/50], Step[300/500], d_loss: 0.9498, g_loss: 1.5567, D(x): 0.75, D(G(Z)): 0.38\n",
      "Epoch [38/50], Step[400/500], d_loss: 0.8287, g_loss: 1.8195, D(x): 0.71, D(G(Z)): 0.29\n",
      "Epoch [38/50], Step[500/500], d_loss: 0.8359, g_loss: 2.1379, D(x): 0.77, D(G(Z)): 0.34\n",
      "Epoch [39/50], Step[100/500], d_loss: 1.0714, g_loss: 1.9091, D(x): 0.57, D(G(Z)): 0.23\n",
      "Epoch [39/50], Step[200/500], d_loss: 0.8742, g_loss: 1.5209, D(x): 0.67, D(G(Z)): 0.27\n",
      "Epoch [39/50], Step[300/500], d_loss: 0.6446, g_loss: 1.8485, D(x): 0.81, D(G(Z)): 0.30\n",
      "Epoch [39/50], Step[400/500], d_loss: 0.6602, g_loss: 2.0164, D(x): 0.73, D(G(Z)): 0.20\n",
      "Epoch [39/50], Step[500/500], d_loss: 1.8085, g_loss: 1.3290, D(x): 0.48, D(G(Z)): 0.50\n",
      "Epoch [40/50], Step[100/500], d_loss: 1.0877, g_loss: 1.6329, D(x): 0.62, D(G(Z)): 0.31\n",
      "Epoch [40/50], Step[200/500], d_loss: 0.9730, g_loss: 1.8628, D(x): 0.66, D(G(Z)): 0.29\n",
      "Epoch [40/50], Step[300/500], d_loss: 0.6777, g_loss: 2.0667, D(x): 0.78, D(G(Z)): 0.26\n",
      "Epoch [40/50], Step[400/500], d_loss: 0.7258, g_loss: 1.0212, D(x): 0.89, D(G(Z)): 0.39\n",
      "Epoch [40/50], Step[500/500], d_loss: 0.6264, g_loss: 2.0157, D(x): 0.77, D(G(Z)): 0.24\n",
      "Epoch [41/50], Step[100/500], d_loss: 1.0767, g_loss: 1.3334, D(x): 0.58, D(G(Z)): 0.27\n",
      "Epoch [41/50], Step[200/500], d_loss: 0.8815, g_loss: 1.9044, D(x): 0.57, D(G(Z)): 0.14\n",
      "Epoch [41/50], Step[300/500], d_loss: 1.1604, g_loss: 1.2217, D(x): 0.64, D(G(Z)): 0.39\n",
      "Epoch [41/50], Step[400/500], d_loss: 1.2174, g_loss: 2.4127, D(x): 0.48, D(G(Z)): 0.21\n",
      "Epoch [41/50], Step[500/500], d_loss: 0.7710, g_loss: 1.8542, D(x): 0.72, D(G(Z)): 0.27\n",
      "Epoch [42/50], Step[100/500], d_loss: 1.0247, g_loss: 2.0555, D(x): 0.61, D(G(Z)): 0.27\n",
      "Epoch [42/50], Step[200/500], d_loss: 1.2100, g_loss: 1.1418, D(x): 0.62, D(G(Z)): 0.38\n",
      "Epoch [42/50], Step[300/500], d_loss: 0.6784, g_loss: 2.1870, D(x): 0.77, D(G(Z)): 0.24\n",
      "Epoch [42/50], Step[400/500], d_loss: 0.8362, g_loss: 2.2720, D(x): 0.61, D(G(Z)): 0.18\n",
      "Epoch [42/50], Step[500/500], d_loss: 0.6925, g_loss: 1.7253, D(x): 0.75, D(G(Z)): 0.24\n",
      "Epoch [43/50], Step[100/500], d_loss: 0.8286, g_loss: 1.8483, D(x): 0.80, D(G(Z)): 0.35\n",
      "Epoch [43/50], Step[200/500], d_loss: 1.0563, g_loss: 1.3790, D(x): 0.64, D(G(Z)): 0.33\n",
      "Epoch [43/50], Step[300/500], d_loss: 0.8640, g_loss: 1.5865, D(x): 0.74, D(G(Z)): 0.31\n",
      "Epoch [43/50], Step[400/500], d_loss: 0.9135, g_loss: 1.8370, D(x): 0.62, D(G(Z)): 0.20\n",
      "Epoch [43/50], Step[500/500], d_loss: 0.8899, g_loss: 1.7970, D(x): 0.79, D(G(Z)): 0.37\n",
      "Epoch [44/50], Step[100/500], d_loss: 1.7755, g_loss: 0.9221, D(x): 0.58, D(G(Z)): 0.60\n",
      "Epoch [44/50], Step[200/500], d_loss: 0.8670, g_loss: 1.9464, D(x): 0.68, D(G(Z)): 0.26\n",
      "Epoch [44/50], Step[300/500], d_loss: 1.6421, g_loss: 1.2900, D(x): 0.51, D(G(Z)): 0.44\n",
      "Epoch [44/50], Step[400/500], d_loss: 0.9255, g_loss: 2.6424, D(x): 0.64, D(G(Z)): 0.26\n",
      "Epoch [44/50], Step[500/500], d_loss: 1.0925, g_loss: 2.2701, D(x): 0.61, D(G(Z)): 0.24\n",
      "Epoch [45/50], Step[100/500], d_loss: 0.9493, g_loss: 2.4216, D(x): 0.71, D(G(Z)): 0.32\n",
      "Epoch [45/50], Step[200/500], d_loss: 0.7120, g_loss: 2.0553, D(x): 0.77, D(G(Z)): 0.27\n",
      "Epoch [45/50], Step[300/500], d_loss: 0.4984, g_loss: 2.0910, D(x): 0.81, D(G(Z)): 0.20\n",
      "Epoch [45/50], Step[400/500], d_loss: 0.4633, g_loss: 2.0813, D(x): 0.83, D(G(Z)): 0.17\n",
      "Epoch [45/50], Step[500/500], d_loss: 0.3778, g_loss: 2.6214, D(x): 0.84, D(G(Z)): 0.14\n",
      "Epoch [46/50], Step[100/500], d_loss: 0.5987, g_loss: 2.2530, D(x): 0.79, D(G(Z)): 0.24\n",
      "Epoch [46/50], Step[200/500], d_loss: 0.5167, g_loss: 2.4261, D(x): 0.77, D(G(Z)): 0.17\n",
      "Epoch [46/50], Step[300/500], d_loss: 0.9519, g_loss: 1.9288, D(x): 0.60, D(G(Z)): 0.21\n",
      "Epoch [46/50], Step[400/500], d_loss: 0.7847, g_loss: 1.6767, D(x): 0.77, D(G(Z)): 0.34\n",
      "Epoch [46/50], Step[500/500], d_loss: 0.7910, g_loss: 1.1260, D(x): 0.85, D(G(Z)): 0.40\n",
      "Epoch [47/50], Step[100/500], d_loss: 0.9319, g_loss: 1.4601, D(x): 0.63, D(G(Z)): 0.26\n",
      "Epoch [47/50], Step[200/500], d_loss: 0.9343, g_loss: 1.4625, D(x): 0.76, D(G(Z)): 0.41\n",
      "Epoch [47/50], Step[300/500], d_loss: 0.6583, g_loss: 2.1663, D(x): 0.70, D(G(Z)): 0.19\n",
      "Epoch [47/50], Step[400/500], d_loss: 0.7316, g_loss: 1.7944, D(x): 0.75, D(G(Z)): 0.28\n",
      "Epoch [47/50], Step[500/500], d_loss: 0.6674, g_loss: 2.2268, D(x): 0.71, D(G(Z)): 0.20\n",
      "Epoch [48/50], Step[100/500], d_loss: 0.5764, g_loss: 1.9674, D(x): 0.76, D(G(Z)): 0.20\n",
      "Epoch [48/50], Step[200/500], d_loss: 0.4778, g_loss: 2.6109, D(x): 0.85, D(G(Z)): 0.22\n",
      "Epoch [48/50], Step[300/500], d_loss: 0.7151, g_loss: 1.6508, D(x): 0.70, D(G(Z)): 0.23\n",
      "Epoch [48/50], Step[400/500], d_loss: 1.3765, g_loss: 1.9076, D(x): 0.48, D(G(Z)): 0.29\n",
      "Epoch [48/50], Step[500/500], d_loss: 0.8750, g_loss: 1.4709, D(x): 0.65, D(G(Z)): 0.27\n",
      "Epoch [49/50], Step[100/500], d_loss: 0.6687, g_loss: 2.0753, D(x): 0.85, D(G(Z)): 0.33\n",
      "Epoch [49/50], Step[200/500], d_loss: 0.9032, g_loss: 1.9436, D(x): 0.69, D(G(Z)): 0.32\n",
      "Epoch [49/50], Step[300/500], d_loss: 0.6837, g_loss: 1.8835, D(x): 0.79, D(G(Z)): 0.31\n",
      "Epoch [49/50], Step[400/500], d_loss: 0.4050, g_loss: 2.1562, D(x): 0.83, D(G(Z)): 0.15\n",
      "Epoch [49/50], Step[500/500], d_loss: 0.6848, g_loss: 1.7297, D(x): 0.83, D(G(Z)): 0.34\n"
     ]
    }
   ],
   "source": [
    "for epoch in range(50):\n",
    "    for i, (images, _) in enumerate(train_loader):\n",
    "        images = Variable(images)\n",
    "        real_labels = Variable(torch.ones(images.size(0)))\n",
    "        fake_labels = Variable(torch.zeros(images.size(0)))\n",
    "        \n",
    "        # Train the discriminator\n",
    "        discriminator.zero_grad()\n",
    "        outputs = discriminator(images)\n",
    "        real_loss = criterion(outputs, real_labels)\n",
    "        real_score = outputs\n",
    "        \n",
    "        noise = Variable(torch.randn(images.size(0), 128))\n",
    "        fake_images = generator(noise)\n",
    "        outputs = discriminator(fake_images)\n",
    "        fake_loss = criterion(outputs, fake_labels)\n",
    "        fake_score = outputs\n",
    "        \n",
    "        d_loss = real_loss + fake_loss\n",
    "        d_loss.backward()\n",
    "        d_optimizer.step()\n",
    "        \n",
    "        # Train the generator\n",
    "        generator.zero_grad()\n",
    "        noise = Variable(torch.randn(images.size(0), 128))\n",
    "        fake_images = generator(noise)\n",
    "        outputs = discriminator(fake_images)\n",
    "        g_loss = criterion(outputs, real_labels)\n",
    "        g_loss.backward()\n",
    "        g_optimizer.step()\n",
    "        \n",
    "        if (i+1) % 100 == 0:\n",
    "            print('Epoch [%d/%d], Step[%d/%d], d_loss: %.4f, g_loss: %.4f, '\n",
    "                  'D(x): %.2f, D(G(Z)): %.2f'\n",
    "                  %(epoch, 50, i+1, 500, d_loss.data[0], g_loss.data[0],\n",
    "                    real_score.data.mean(), fake_score.data.mean()))\n",
    "            \n",
    "            # Save the sampled images\n",
    "            torchvision.utils.save_image(fake_images.data,\n",
    "                './data/fake_samples_%d_%d.png' %(epoch+1, i+1))"
   ]
  },
  {
   "cell_type": "markdown",
   "metadata": {},
   "source": [
    "### Save the Models"
   ]
  },
  {
   "cell_type": "code",
   "execution_count": null,
   "metadata": {
    "collapsed": true
   },
   "outputs": [],
   "source": [
    "torch.save(generator.state_dict(), './DCgenerator.pkl')\n",
    "torch.save(discriminator.state_dict(), './DCdiscriminator.pkl')"
   ]
  }
 ],
 "metadata": {
  "kernelspec": {
   "display_name": "Python 2",
   "language": "python",
   "name": "python2"
  },
  "language_info": {
   "codemirror_mode": {
    "name": "ipython",
    "version": 2
   },
   "file_extension": ".py",
   "mimetype": "text/x-python",
   "name": "python",
   "nbconvert_exporter": "python",
   "pygments_lexer": "ipython2",
   "version": "2.7.13"
  }
 },
 "nbformat": 4,
 "nbformat_minor": 0
}
