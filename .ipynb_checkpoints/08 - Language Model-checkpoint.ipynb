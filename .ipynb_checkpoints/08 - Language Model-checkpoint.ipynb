{
 "cells": [
  {
   "cell_type": "markdown",
   "metadata": {},
   "source": [
    "# 08 - Language Model"
   ]
  },
  {
   "cell_type": "markdown",
   "metadata": {},
   "source": [
    "Some part of the code was referenced from below  \n",
    "https://github.com/pytorch/examples/tree/master/word_language_model"
   ]
  },
  {
   "cell_type": "code",
   "execution_count": null,
   "metadata": {
    "collapsed": true
   },
   "outputs": [],
   "source": []
  },
  {
   "cell_type": "code",
   "execution_count": 12,
   "metadata": {
    "collapsed": false
   },
   "outputs": [],
   "source": [
    "import torch\n",
    "import torch.nn as nn\n",
    "import numpy as np\n",
    "from torch.autograd import Variable\n",
    "from data_utils import Dictionary, Corpus"
   ]
  },
  {
   "cell_type": "markdown",
   "metadata": {},
   "source": [
    "### Hyper Parameters "
   ]
  },
  {
   "cell_type": "code",
   "execution_count": 13,
   "metadata": {
    "collapsed": true
   },
   "outputs": [],
   "source": [
    "embed_size = 128\n",
    "hidden_size = 1024\n",
    "num_layers = 1\n",
    "num_epochs = 5\n",
    "num_samples = 1000 # number of words to be sampled\n",
    "batch_size = 20\n",
    "seq_length = 30\n",
    "learning_rate = 0.002"
   ]
  },
  {
   "cell_type": "markdown",
   "metadata": {},
   "source": [
    "Load Penn Treebank Dataset"
   ]
  },
  {
   "cell_type": "code",
   "execution_count": 14,
   "metadata": {
    "collapsed": false
   },
   "outputs": [],
   "source": [
    "train_path = './data/train.txt'\n",
    "sample_path = './sample.txt'\n",
    "corpus = Corpus()\n",
    "ids = corpus.get_data(train_path, batch_size)\n",
    "vocab_size = len(corpus.dictionary)\n",
    "num_batches = ids.size(1) // seq_length"
   ]
  },
  {
   "cell_type": "markdown",
   "metadata": {},
   "source": [
    "### RNN Based Language Model"
   ]
  },
  {
   "cell_type": "code",
   "execution_count": 15,
   "metadata": {
    "collapsed": false
   },
   "outputs": [],
   "source": [
    "class RNNLM(nn.Module):\n",
    "    def __init__(self, vocab_size, embed_size, hidden_size, num_layers):\n",
    "        super(RNNLM, self).__init__()\n",
    "        self.embed = nn.Embedding(vocab_size, embed_size)\n",
    "        self.lstm = nn.LSTM(embed_size, hidden_size, num_layers, batch_first=True)\n",
    "        self.linear = nn.Linear(hidden_size, vocab_size)\n",
    "        self.init_weights()\n",
    "        \n",
    "    def init_weights(self):\n",
    "        self.embed.weight.data.uniform_(-0.1, 0.1)\n",
    "        self.linear.bias.data.fill_(0)\n",
    "        self.linear.weight.data.uniform_(-0.1, 0.1)\n",
    "        \n",
    "    def forward(self, x, h):\n",
    "        # Embed word ids to vectors\n",
    "        x = self.embed(x)\n",
    "        \n",
    "        # Forward propagate RNN\n",
    "        out, h = self.lstm(x, h)\n",
    "        \n",
    "        # Reshape output to (batch_size*sequence_length, hidden_size)\n",
    "        out = out.contiguous().view(out.size(0)*out.size(1), out.size(2))\n",
    "        \n",
    "        # Decode hidden states of all time step\n",
    "        out = self.linear(out)\n",
    "        return out, h\n",
    "    \n",
    "model = RNNLM(vocab_size, embed_size, hidden_size, num_layers)"
   ]
  },
  {
   "cell_type": "markdown",
   "metadata": {},
   "source": [
    "### Loss and Optimizer"
   ]
  },
  {
   "cell_type": "code",
   "execution_count": 16,
   "metadata": {
    "collapsed": true
   },
   "outputs": [],
   "source": [
    "criterion = nn.CrossEntropyLoss()\n",
    "optimizer = torch.optim.Adam(model.parameters(), lr=learning_rate)"
   ]
  },
  {
   "cell_type": "markdown",
   "metadata": {},
   "source": [
    "### Truncated Backpropagation"
   ]
  },
  {
   "cell_type": "code",
   "execution_count": 17,
   "metadata": {
    "collapsed": true
   },
   "outputs": [],
   "source": [
    "def detach(states):\n",
    "    return [Variable(state.data) for state in states]"
   ]
  },
  {
   "cell_type": "markdown",
   "metadata": {},
   "source": [
    "### Training "
   ]
  },
  {
   "cell_type": "code",
   "execution_count": 18,
   "metadata": {
    "collapsed": false
   },
   "outputs": [
    {
     "name": "stdout",
     "output_type": "stream",
     "text": [
      "Epoch [1/5], Step[0/1549], Loss: 9.214, Perplexity: 10038.36\n",
      "Epoch [1/5], Step[100/1549], Loss: 6.087, Perplexity: 440.11\n",
      "Epoch [1/5], Step[200/1549], Loss: 5.993, Perplexity: 400.43\n",
      "Epoch [1/5], Step[300/1549], Loss: 5.839, Perplexity: 343.48\n",
      "Epoch [1/5], Step[400/1549], Loss: 5.713, Perplexity: 302.86\n",
      "Epoch [1/5], Step[500/1549], Loss: 5.165, Perplexity: 175.11\n",
      "Epoch [1/5], Step[600/1549], Loss: 5.247, Perplexity: 189.96\n",
      "Epoch [1/5], Step[700/1549], Loss: 5.437, Perplexity: 229.75\n",
      "Epoch [1/5], Step[800/1549], Loss: 5.263, Perplexity: 193.02\n",
      "Epoch [1/5], Step[900/1549], Loss: 5.126, Perplexity: 168.39\n",
      "Epoch [1/5], Step[1000/1549], Loss: 5.200, Perplexity: 181.23\n",
      "Epoch [1/5], Step[1100/1549], Loss: 5.354, Perplexity: 211.55\n",
      "Epoch [1/5], Step[1200/1549], Loss: 5.163, Perplexity: 174.73\n",
      "Epoch [1/5], Step[1300/1549], Loss: 5.115, Perplexity: 166.46\n",
      "Epoch [1/5], Step[1400/1549], Loss: 4.815, Perplexity: 123.33\n",
      "Epoch [1/5], Step[1500/1549], Loss: 5.174, Perplexity: 176.59\n",
      "Epoch [2/5], Step[0/1549], Loss: 5.487, Perplexity: 241.45\n",
      "Epoch [2/5], Step[100/1549], Loss: 4.663, Perplexity: 105.98\n",
      "Epoch [2/5], Step[200/1549], Loss: 4.805, Perplexity: 122.14\n",
      "Epoch [2/5], Step[300/1549], Loss: 4.852, Perplexity: 128.00\n",
      "Epoch [2/5], Step[400/1549], Loss: 4.808, Perplexity: 122.53\n",
      "Epoch [2/5], Step[500/1549], Loss: 4.251, Perplexity: 70.17\n",
      "Epoch [2/5], Step[600/1549], Loss: 4.567, Perplexity: 96.22\n",
      "Epoch [2/5], Step[700/1549], Loss: 4.660, Perplexity: 105.62\n",
      "Epoch [2/5], Step[800/1549], Loss: 4.618, Perplexity: 101.30\n",
      "Epoch [2/5], Step[900/1549], Loss: 4.452, Perplexity: 85.81\n",
      "Epoch [2/5], Step[1000/1549], Loss: 4.481, Perplexity: 88.34\n",
      "Epoch [2/5], Step[1100/1549], Loss: 4.718, Perplexity: 111.96\n",
      "Epoch [2/5], Step[1200/1549], Loss: 4.586, Perplexity: 98.12\n",
      "Epoch [2/5], Step[1300/1549], Loss: 4.419, Perplexity: 83.01\n",
      "Epoch [2/5], Step[1400/1549], Loss: 4.142, Perplexity: 62.95\n",
      "Epoch [2/5], Step[1500/1549], Loss: 4.555, Perplexity: 95.11\n",
      "Epoch [3/5], Step[0/1549], Loss: 4.817, Perplexity: 123.59\n",
      "Epoch [3/5], Step[100/1549], Loss: 4.016, Perplexity: 55.47\n",
      "Epoch [3/5], Step[200/1549], Loss: 4.248, Perplexity: 69.99\n",
      "Epoch [3/5], Step[300/1549], Loss: 4.244, Perplexity: 69.68\n",
      "Epoch [3/5], Step[400/1549], Loss: 4.157, Perplexity: 63.88\n",
      "Epoch [3/5], Step[500/1549], Loss: 3.669, Perplexity: 39.20\n",
      "Epoch [3/5], Step[600/1549], Loss: 4.068, Perplexity: 58.42\n",
      "Epoch [3/5], Step[700/1549], Loss: 4.063, Perplexity: 58.14\n",
      "Epoch [3/5], Step[800/1549], Loss: 4.116, Perplexity: 61.29\n",
      "Epoch [3/5], Step[900/1549], Loss: 3.846, Perplexity: 46.78\n",
      "Epoch [3/5], Step[1000/1549], Loss: 3.875, Perplexity: 48.18\n",
      "Epoch [3/5], Step[1100/1549], Loss: 4.150, Perplexity: 63.43\n",
      "Epoch [3/5], Step[1200/1549], Loss: 4.107, Perplexity: 60.77\n",
      "Epoch [3/5], Step[1300/1549], Loss: 3.853, Perplexity: 47.15\n",
      "Epoch [3/5], Step[1400/1549], Loss: 3.566, Perplexity: 35.39\n",
      "Epoch [3/5], Step[1500/1549], Loss: 3.947, Perplexity: 51.78\n",
      "Epoch [4/5], Step[0/1549], Loss: 4.163, Perplexity: 64.26\n",
      "Epoch [4/5], Step[100/1549], Loss: 3.551, Perplexity: 34.85\n",
      "Epoch [4/5], Step[200/1549], Loss: 3.788, Perplexity: 44.18\n",
      "Epoch [4/5], Step[300/1549], Loss: 3.726, Perplexity: 41.50\n",
      "Epoch [4/5], Step[400/1549], Loss: 3.639, Perplexity: 38.06\n",
      "Epoch [4/5], Step[500/1549], Loss: 3.243, Perplexity: 25.61\n",
      "Epoch [4/5], Step[600/1549], Loss: 3.679, Perplexity: 39.60\n",
      "Epoch [4/5], Step[700/1549], Loss: 3.599, Perplexity: 36.55\n",
      "Epoch [4/5], Step[800/1549], Loss: 3.746, Perplexity: 42.33\n",
      "Epoch [4/5], Step[900/1549], Loss: 3.352, Perplexity: 28.56\n",
      "Epoch [4/5], Step[1000/1549], Loss: 3.457, Perplexity: 31.71\n",
      "Epoch [4/5], Step[1100/1549], Loss: 3.645, Perplexity: 38.30\n",
      "Epoch [4/5], Step[1200/1549], Loss: 3.660, Perplexity: 38.86\n",
      "Epoch [4/5], Step[1300/1549], Loss: 3.392, Perplexity: 29.72\n",
      "Epoch [4/5], Step[1400/1549], Loss: 3.082, Perplexity: 21.80\n",
      "Epoch [4/5], Step[1500/1549], Loss: 3.461, Perplexity: 31.85\n",
      "Epoch [5/5], Step[0/1549], Loss: 3.772, Perplexity: 43.47\n",
      "Epoch [5/5], Step[100/1549], Loss: 3.221, Perplexity: 25.06\n",
      "Epoch [5/5], Step[200/1549], Loss: 3.418, Perplexity: 30.51\n",
      "Epoch [5/5], Step[300/1549], Loss: 3.403, Perplexity: 30.04\n",
      "Epoch [5/5], Step[400/1549], Loss: 3.316, Perplexity: 27.55\n",
      "Epoch [5/5], Step[500/1549], Loss: 2.939, Perplexity: 18.90\n",
      "Epoch [5/5], Step[600/1549], Loss: 3.430, Perplexity: 30.88\n",
      "Epoch [5/5], Step[700/1549], Loss: 3.206, Perplexity: 24.67\n",
      "Epoch [5/5], Step[800/1549], Loss: 3.381, Perplexity: 29.41\n",
      "Epoch [5/5], Step[900/1549], Loss: 2.973, Perplexity: 19.56\n",
      "Epoch [5/5], Step[1000/1549], Loss: 3.161, Perplexity: 23.59\n",
      "Epoch [5/5], Step[1100/1549], Loss: 3.325, Perplexity: 27.81\n",
      "Epoch [5/5], Step[1200/1549], Loss: 3.304, Perplexity: 27.21\n",
      "Epoch [5/5], Step[1300/1549], Loss: 3.003, Perplexity: 20.14\n",
      "Epoch [5/5], Step[1400/1549], Loss: 2.710, Perplexity: 15.03\n",
      "Epoch [5/5], Step[1500/1549], Loss: 3.176, Perplexity: 23.96\n"
     ]
    }
   ],
   "source": [
    "for epoch in range(num_epochs):\n",
    "    # Initial hidden and memory states\n",
    "    states = (Variable(torch.zeros(num_layers, batch_size, hidden_size)),\n",
    "              Variable(torch.zeros(num_layers, batch_size, hidden_size)))\n",
    "    \n",
    "    for i in range(0, ids.size(1)  - seq_length, seq_length):\n",
    "        # Get batch inputs and targets\n",
    "        inputs = Variable(ids[:, i:i+seq_length])\n",
    "        targets = Variable(ids[:, (i+1):(i+1)+seq_length].contiguous())\n",
    "        \n",
    "        # Forward + Backward + Optimize\n",
    "        model.zero_grad()\n",
    "        states = detach(states)\n",
    "        outputs, states = model(inputs, states)\n",
    "        loss = criterion(outputs, targets.view(-1))\n",
    "        loss.backward()\n",
    "        torch.nn.utils.clip_grad_norm(model.parameters(), 0.5)\n",
    "        optimizer.step()\n",
    "        \n",
    "        step = (i+1) // seq_length\n",
    "        if step % 100 == 0:\n",
    "            print('Epoch [%d/%d], Step[%d/%d], Loss: %.3f, Perplexity: %5.2f' %\n",
    "                  (epoch+1, num_epochs, step, num_batches, loss.data[0], np.exp(loss.data[0])))"
   ]
  },
  {
   "cell_type": "markdown",
   "metadata": {},
   "source": [
    "### Sampling"
   ]
  },
  {
   "cell_type": "code",
   "execution_count": 19,
   "metadata": {
    "collapsed": false
   },
   "outputs": [
    {
     "name": "stdout",
     "output_type": "stream",
     "text": [
      "Sampled [100/1000] words and save to ./sample.txt\n",
      "Sampled [200/1000] words and save to ./sample.txt\n",
      "Sampled [300/1000] words and save to ./sample.txt\n",
      "Sampled [400/1000] words and save to ./sample.txt\n",
      "Sampled [500/1000] words and save to ./sample.txt\n",
      "Sampled [600/1000] words and save to ./sample.txt\n",
      "Sampled [700/1000] words and save to ./sample.txt\n",
      "Sampled [800/1000] words and save to ./sample.txt\n",
      "Sampled [900/1000] words and save to ./sample.txt\n",
      "Sampled [1000/1000] words and save to ./sample.txt\n"
     ]
    }
   ],
   "source": [
    "with open(sample_path, 'w') as f:\n",
    "    # Set initial hidden memory states\n",
    "    state = (Variable(torch.zeros(num_layers, 1, hidden_size)),\n",
    "             Variable(torch.zeros(num_layers, 1, hidden_size)))\n",
    "    \n",
    "    # Select one word id randomly\n",
    "    prob = torch.ones(vocab_size)\n",
    "    input = Variable(torch.multinomial(prob, num_samples=1).unsqueeze(1),\n",
    "                     volatile=True)\n",
    "    \n",
    "    for i in range(num_samples):\n",
    "        # Forward propagate rnn\n",
    "        output, state = model(input, state)\n",
    "        \n",
    "        # Sample a word id\n",
    "        prob = output.squeeze().data.exp()\n",
    "        word_id = torch.multinomial(prob, 1)[0]\n",
    "        \n",
    "        # Feed sampled word id to next time step\n",
    "        input.data.fill_(word_id)\n",
    "        \n",
    "        # File write\n",
    "        word = corpus.dictionary.idx2word[word_id]\n",
    "        word = '\\n' if word == '<eos>' else word + ' '\n",
    "        f.write(word)\n",
    "        \n",
    "        if (i + 1) % 100 == 0:\n",
    "            print('Sampled [%d/%d] words and save to %s'%(i+1, num_samples, sample_path))"
   ]
  },
  {
   "cell_type": "markdown",
   "metadata": {},
   "source": [
    "### Save the Trained Model"
   ]
  },
  {
   "cell_type": "code",
   "execution_count": 20,
   "metadata": {
    "collapsed": true
   },
   "outputs": [],
   "source": [
    "torch.save(model.state_dict(), 'LanguageModel.pkl')"
   ]
  }
 ],
 "metadata": {
  "kernelspec": {
   "display_name": "Python 2",
   "language": "python",
   "name": "python2"
  },
  "language_info": {
   "codemirror_mode": {
    "name": "ipython",
    "version": 2
   },
   "file_extension": ".py",
   "mimetype": "text/x-python",
   "name": "python",
   "nbconvert_exporter": "python",
   "pygments_lexer": "ipython2",
   "version": "2.7.13"
  }
 },
 "nbformat": 4,
 "nbformat_minor": 0
}
